{
 "cells": [
  {
   "cell_type": "markdown",
   "id": "214a4b10",
   "metadata": {},
   "source": [
    "# Аннотации типов в Python"
   ]
  },
  {
   "cell_type": "markdown",
   "id": "198228ed",
   "metadata": {},
   "source": [
    "## Python — язык с динамической типизации"
   ]
  },
  {
   "cell_type": "code",
   "execution_count": 1,
   "id": "ff0bf25b",
   "metadata": {},
   "outputs": [
    {
     "name": "stdout",
     "output_type": "stream",
     "text": [
      "6\n",
      "51\n"
     ]
    }
   ],
   "source": [
    "var = 5\n",
    "\n",
    "print(var + 1)\n",
    "\n",
    "# a few moments later\n",
    "\n",
    "var = '5'\n",
    "print(var + '1')"
   ]
  },
  {
   "cell_type": "code",
   "execution_count": 2,
   "id": "52b89be9",
   "metadata": {},
   "outputs": [],
   "source": [
    "def add(number_1, number_2):\n",
    "    return number_1 + number_2"
   ]
  },
  {
   "cell_type": "code",
   "execution_count": 3,
   "id": "4d42e7c4",
   "metadata": {},
   "outputs": [
    {
     "data": {
      "text/plain": [
       "3"
      ]
     },
     "execution_count": 3,
     "metadata": {},
     "output_type": "execute_result"
    }
   ],
   "source": [
    "add(1, 2)"
   ]
  },
  {
   "cell_type": "code",
   "execution_count": 4,
   "id": "9982fa5e",
   "metadata": {},
   "outputs": [
    {
     "data": {
      "text/plain": [
       "'12'"
      ]
     },
     "execution_count": 4,
     "metadata": {},
     "output_type": "execute_result"
    }
   ],
   "source": [
    "add('1', '2')"
   ]
  },
  {
   "cell_type": "code",
   "execution_count": 5,
   "id": "3c1037a1",
   "metadata": {},
   "outputs": [
    {
     "ename": "TypeError",
     "evalue": "can only concatenate str (not \"int\") to str",
     "output_type": "error",
     "traceback": [
      "\u001b[0;31m---------------------------------------------------------------------------\u001b[0m",
      "\u001b[0;31mTypeError\u001b[0m                                 Traceback (most recent call last)",
      "\u001b[0;32m<ipython-input-5-d09197b72c36>\u001b[0m in \u001b[0;36m<module>\u001b[0;34m\u001b[0m\n\u001b[0;32m----> 1\u001b[0;31m \u001b[0madd\u001b[0m\u001b[0;34m(\u001b[0m\u001b[0;34m'1'\u001b[0m\u001b[0;34m,\u001b[0m \u001b[0;36m2\u001b[0m\u001b[0;34m)\u001b[0m\u001b[0;34m\u001b[0m\u001b[0;34m\u001b[0m\u001b[0m\n\u001b[0m",
      "\u001b[0;32m<ipython-input-2-0afc90a86621>\u001b[0m in \u001b[0;36madd\u001b[0;34m(number_1, number_2)\u001b[0m\n\u001b[1;32m      1\u001b[0m \u001b[0;32mdef\u001b[0m \u001b[0madd\u001b[0m\u001b[0;34m(\u001b[0m\u001b[0mnumber_1\u001b[0m\u001b[0;34m,\u001b[0m \u001b[0mnumber_2\u001b[0m\u001b[0;34m)\u001b[0m\u001b[0;34m:\u001b[0m\u001b[0;34m\u001b[0m\u001b[0;34m\u001b[0m\u001b[0m\n\u001b[0;32m----> 2\u001b[0;31m     \u001b[0;32mreturn\u001b[0m \u001b[0mnumber_1\u001b[0m \u001b[0;34m+\u001b[0m \u001b[0mnumber_2\u001b[0m\u001b[0;34m\u001b[0m\u001b[0;34m\u001b[0m\u001b[0m\n\u001b[0m",
      "\u001b[0;31mTypeError\u001b[0m: can only concatenate str (not \"int\") to str"
     ]
    }
   ],
   "source": [
    "add('1', 2)"
   ]
  },
  {
   "cell_type": "code",
   "execution_count": 6,
   "id": "c432a07c",
   "metadata": {},
   "outputs": [
    {
     "ename": "TypeError",
     "evalue": "unsupported operand type(s) for +: 'NoneType' and 'NoneType'",
     "output_type": "error",
     "traceback": [
      "\u001b[0;31m---------------------------------------------------------------------------\u001b[0m",
      "\u001b[0;31mTypeError\u001b[0m                                 Traceback (most recent call last)",
      "\u001b[0;32m<ipython-input-6-f047cd72f2f2>\u001b[0m in \u001b[0;36m<module>\u001b[0;34m\u001b[0m\n\u001b[0;32m----> 1\u001b[0;31m \u001b[0madd\u001b[0m\u001b[0;34m(\u001b[0m\u001b[0;32mNone\u001b[0m\u001b[0;34m,\u001b[0m \u001b[0;32mNone\u001b[0m\u001b[0;34m)\u001b[0m\u001b[0;34m\u001b[0m\u001b[0;34m\u001b[0m\u001b[0m\n\u001b[0m",
      "\u001b[0;32m<ipython-input-2-0afc90a86621>\u001b[0m in \u001b[0;36madd\u001b[0;34m(number_1, number_2)\u001b[0m\n\u001b[1;32m      1\u001b[0m \u001b[0;32mdef\u001b[0m \u001b[0madd\u001b[0m\u001b[0;34m(\u001b[0m\u001b[0mnumber_1\u001b[0m\u001b[0;34m,\u001b[0m \u001b[0mnumber_2\u001b[0m\u001b[0;34m)\u001b[0m\u001b[0;34m:\u001b[0m\u001b[0;34m\u001b[0m\u001b[0;34m\u001b[0m\u001b[0m\n\u001b[0;32m----> 2\u001b[0;31m     \u001b[0;32mreturn\u001b[0m \u001b[0mnumber_1\u001b[0m \u001b[0;34m+\u001b[0m \u001b[0mnumber_2\u001b[0m\u001b[0;34m\u001b[0m\u001b[0;34m\u001b[0m\u001b[0m\n\u001b[0m",
      "\u001b[0;31mTypeError\u001b[0m: unsupported operand type(s) for +: 'NoneType' and 'NoneType'"
     ]
    }
   ],
   "source": [
    "add(None, None)"
   ]
  },
  {
   "cell_type": "code",
   "execution_count": 7,
   "id": "7860970e",
   "metadata": {},
   "outputs": [],
   "source": [
    "def double_pi():\n",
    "    return add(3.14, 3.14)"
   ]
  },
  {
   "cell_type": "code",
   "execution_count": 8,
   "id": "8f452b08",
   "metadata": {},
   "outputs": [
    {
     "data": {
      "text/plain": [
       "'3.143.14'"
      ]
     },
     "execution_count": 8,
     "metadata": {},
     "output_type": "execute_result"
    }
   ],
   "source": [
    "def double_pi():\n",
    "    return add('3.14', '3.14')\n",
    "\n",
    "double_pi()"
   ]
  },
  {
   "cell_type": "code",
   "execution_count": 9,
   "id": "e113328e",
   "metadata": {},
   "outputs": [
    {
     "ename": "TypeError",
     "evalue": "unsupported operand type(s) for +: 'float' and 'str'",
     "output_type": "error",
     "traceback": [
      "\u001b[0;31m---------------------------------------------------------------------------\u001b[0m",
      "\u001b[0;31mTypeError\u001b[0m                                 Traceback (most recent call last)",
      "\u001b[0;32m<ipython-input-9-cac26a698940>\u001b[0m in \u001b[0;36m<module>\u001b[0;34m\u001b[0m\n\u001b[1;32m      2\u001b[0m     \u001b[0;32mreturn\u001b[0m \u001b[0madd\u001b[0m\u001b[0;34m(\u001b[0m\u001b[0;36m3.14\u001b[0m\u001b[0;34m,\u001b[0m \u001b[0;34m'3.14'\u001b[0m\u001b[0;34m)\u001b[0m\u001b[0;34m\u001b[0m\u001b[0;34m\u001b[0m\u001b[0m\n\u001b[1;32m      3\u001b[0m \u001b[0;34m\u001b[0m\u001b[0m\n\u001b[0;32m----> 4\u001b[0;31m \u001b[0mdouble_pi\u001b[0m\u001b[0;34m(\u001b[0m\u001b[0;34m)\u001b[0m\u001b[0;34m\u001b[0m\u001b[0;34m\u001b[0m\u001b[0m\n\u001b[0m",
      "\u001b[0;32m<ipython-input-9-cac26a698940>\u001b[0m in \u001b[0;36mdouble_pi\u001b[0;34m()\u001b[0m\n\u001b[1;32m      1\u001b[0m \u001b[0;32mdef\u001b[0m \u001b[0mdouble_pi\u001b[0m\u001b[0;34m(\u001b[0m\u001b[0;34m)\u001b[0m\u001b[0;34m:\u001b[0m\u001b[0;34m\u001b[0m\u001b[0;34m\u001b[0m\u001b[0m\n\u001b[0;32m----> 2\u001b[0;31m     \u001b[0;32mreturn\u001b[0m \u001b[0madd\u001b[0m\u001b[0;34m(\u001b[0m\u001b[0;36m3.14\u001b[0m\u001b[0;34m,\u001b[0m \u001b[0;34m'3.14'\u001b[0m\u001b[0;34m)\u001b[0m\u001b[0;34m\u001b[0m\u001b[0;34m\u001b[0m\u001b[0m\n\u001b[0m\u001b[1;32m      3\u001b[0m \u001b[0;34m\u001b[0m\u001b[0m\n\u001b[1;32m      4\u001b[0m \u001b[0mdouble_pi\u001b[0m\u001b[0;34m(\u001b[0m\u001b[0;34m)\u001b[0m\u001b[0;34m\u001b[0m\u001b[0;34m\u001b[0m\u001b[0m\n",
      "\u001b[0;32m<ipython-input-2-0afc90a86621>\u001b[0m in \u001b[0;36madd\u001b[0;34m(number_1, number_2)\u001b[0m\n\u001b[1;32m      1\u001b[0m \u001b[0;32mdef\u001b[0m \u001b[0madd\u001b[0m\u001b[0;34m(\u001b[0m\u001b[0mnumber_1\u001b[0m\u001b[0;34m,\u001b[0m \u001b[0mnumber_2\u001b[0m\u001b[0;34m)\u001b[0m\u001b[0;34m:\u001b[0m\u001b[0;34m\u001b[0m\u001b[0;34m\u001b[0m\u001b[0m\n\u001b[0;32m----> 2\u001b[0;31m     \u001b[0;32mreturn\u001b[0m \u001b[0mnumber_1\u001b[0m \u001b[0;34m+\u001b[0m \u001b[0mnumber_2\u001b[0m\u001b[0;34m\u001b[0m\u001b[0;34m\u001b[0m\u001b[0m\n\u001b[0m",
      "\u001b[0;31mTypeError\u001b[0m: unsupported operand type(s) for +: 'float' and 'str'"
     ]
    }
   ],
   "source": [
    "def double_pi():\n",
    "    return add(3.14, '3.14')\n",
    "\n",
    "double_pi()"
   ]
  },
  {
   "cell_type": "markdown",
   "id": "f72b87eb",
   "metadata": {},
   "source": [
    "### Что с этим делать?"
   ]
  },
  {
   "cell_type": "code",
   "execution_count": 10,
   "id": "cf249337",
   "metadata": {},
   "outputs": [],
   "source": [
    "def double_pi():\n",
    "    return add(3.14, 3.14)"
   ]
  },
  {
   "cell_type": "code",
   "execution_count": 11,
   "id": "72e5342f",
   "metadata": {
    "scrolled": true
   },
   "outputs": [],
   "source": [
    "assert double_pi() == 6.28"
   ]
  },
  {
   "cell_type": "markdown",
   "id": "e3c55630",
   "metadata": {},
   "source": [
    "## Не очень хорошая поддержка со стороны IDE"
   ]
  },
  {
   "cell_type": "code",
   "execution_count": 12,
   "id": "8e002073",
   "metadata": {},
   "outputs": [
    {
     "name": "stdout",
     "output_type": "stream",
     "text": [
      "def add(something, other):\r\n",
      "    # какие методы есть у something?\r\n",
      "    return something + other\r\n",
      "\r\n",
      "\r\n",
      "# ide пытается\r\n",
      "result = add(5, 5)\r\n",
      "print(result)\r\n",
      "\r\n",
      "result = add('5', '5')\r\n",
      "print(result)\r\n",
      "\r\n",
      "# не всегда правильно\r\n",
      "result = add(5, '5')\r\n",
      "print(result)\r\n"
     ]
    }
   ],
   "source": [
    "!cat ./demo/ide.py"
   ]
  },
  {
   "cell_type": "markdown",
   "id": "fa440356",
   "metadata": {},
   "source": [
    "## Что с этим делать?\n",
    "\n",
    "Страдать :( "
   ]
  },
  {
   "cell_type": "markdown",
   "id": "3fcc9119",
   "metadata": {},
   "source": [
    "## Аннотации типов"
   ]
  },
  {
   "cell_type": "code",
   "execution_count": null,
   "id": "2d1e083e",
   "metadata": {},
   "outputs": [],
   "source": [
    "def add(number: int, other: int) -> int: # Type Annotations, Type Hints\n",
    "    return number + other\n",
    "\n",
    "add(5, 5)"
   ]
  },
  {
   "cell_type": "code",
   "execution_count": 13,
   "id": "f2b60688",
   "metadata": {},
   "outputs": [
    {
     "name": "stdout",
     "output_type": "stream",
     "text": [
      "def add(one: int, other: int) -> int:\r\n",
      "    # какие методы есть у something?\r\n",
      "    return one + other\r\n",
      "\r\n",
      "\r\n",
      "result = add(5, 5)\r\n",
      "print(result)\r\n",
      "\r\n",
      "result = add('5', '5')\r\n",
      "print(result)\r\n",
      "\r\n",
      "\r\n",
      "result = add(5, '5')\r\n",
      "print(result)\r\n"
     ]
    }
   ],
   "source": [
    "!cat demo/ide_typed.py"
   ]
  },
  {
   "cell_type": "markdown",
   "id": "4cd7dae1",
   "metadata": {},
   "source": [
    "### Как частичная замена тестов"
   ]
  },
  {
   "cell_type": "code",
   "execution_count": 16,
   "id": "3c1f451b",
   "metadata": {
    "scrolled": true
   },
   "outputs": [
    {
     "name": "stdout",
     "output_type": "stream",
     "text": [
      "The following packages are already present in the pyproject.toml and will be skipped:\r\n",
      "\r\n",
      "  • \u001b[36mmypy\u001b[0m\r\n",
      "\r\n",
      "If you want to update it to the latest compatible version, you can use `poetry update package`.\r\n",
      "If you prefer to upgrade it to the latest available version, you can use `poetry add package@latest`.\r\n",
      "\r\n",
      "Nothing to add.\r\n"
     ]
    }
   ],
   "source": [
    "!poetry add -D mypy"
   ]
  },
  {
   "cell_type": "code",
   "execution_count": 17,
   "id": "eaaa3652",
   "metadata": {},
   "outputs": [
    {
     "name": "stdout",
     "output_type": "stream",
     "text": [
      "demo/ide_typed.py:9: \u001b[1m\u001b[31merror:\u001b[m Argument 1 to \u001b[m\u001b[1m\"add\"\u001b[m has incompatible type \u001b[m\u001b[1m\"str\"\u001b[m; expected \u001b[m\u001b[1m\"int\"\u001b[m\u001b[m\r\n",
      "demo/ide_typed.py:9: \u001b[1m\u001b[31merror:\u001b[m Argument 2 to \u001b[m\u001b[1m\"add\"\u001b[m has incompatible type \u001b[m\u001b[1m\"str\"\u001b[m; expected \u001b[m\u001b[1m\"int\"\u001b[m\u001b[m\r\n",
      "demo/ide_typed.py:13: \u001b[1m\u001b[31merror:\u001b[m Argument 2 to \u001b[m\u001b[1m\"add\"\u001b[m has incompatible type \u001b[m\u001b[1m\"str\"\u001b[m; expected \u001b[m\u001b[1m\"int\"\u001b[m\u001b[m\r\n",
      "\u001b[1m\u001b[31mFound 3 errors in 1 file (checked 1 source file)\u001b[m\r\n"
     ]
    }
   ],
   "source": [
    "!mypy demo/ide_typed.py"
   ]
  },
  {
   "cell_type": "code",
   "execution_count": 19,
   "id": "5fc9e1d5",
   "metadata": {},
   "outputs": [
    {
     "name": "stdout",
     "output_type": "stream",
     "text": [
      "def add(one: int, other: int) -> int:\r\n",
      "    # какие методы есть у something?\r\n",
      "    return one + other\r\n",
      "\r\n",
      "\r\n",
      "result = add(5, 5)\r\n",
      "print(result)\r\n"
     ]
    }
   ],
   "source": [
    "!cat demo/ide_typed_all_good.py"
   ]
  },
  {
   "cell_type": "code",
   "execution_count": 18,
   "id": "65e6ec82",
   "metadata": {},
   "outputs": [
    {
     "name": "stdout",
     "output_type": "stream",
     "text": [
      "\u001b[1m\u001b[32mSuccess: no issues found in 1 source file\u001b[m\r\n"
     ]
    }
   ],
   "source": [
    "!mypy demo/ide_typed_all_good.py"
   ]
  },
  {
   "cell_type": "code",
   "execution_count": 20,
   "id": "d6966781",
   "metadata": {},
   "outputs": [
    {
     "name": "stdout",
     "output_type": "stream",
     "text": [
      "install:\r\n",
      "\tpoetry install\r\n",
      "\r\n",
      "lint:\r\n",
      "\tpoetry run flake8 ./demo\r\n",
      "\tpoetry run mypy ./demo\r\n",
      "\r\n",
      "up:\r\n",
      "\tpoetry run jupyter notebook\r\n",
      "\r\n"
     ]
    }
   ],
   "source": [
    "!cat Makefile"
   ]
  },
  {
   "cell_type": "code",
   "execution_count": 21,
   "id": "d24ca782",
   "metadata": {
    "scrolled": false
   },
   "outputs": [
    {
     "name": "stdout",
     "output_type": "stream",
     "text": [
      "poetry run flake8 ./demo\n",
      "poetry run mypy ./demo\n",
      "demo/ide_typed.py:9: \u001b[1m\u001b[31merror:\u001b[m Argument 1 to \u001b[m\u001b[1m\"add\"\u001b[m has incompatible type \u001b[m\u001b[1m\"str\"\u001b[m; expected \u001b[m\u001b[1m\"int\"\u001b[m\u001b[m\n",
      "demo/ide_typed.py:9: \u001b[1m\u001b[31merror:\u001b[m Argument 2 to \u001b[m\u001b[1m\"add\"\u001b[m has incompatible type \u001b[m\u001b[1m\"str\"\u001b[m; expected \u001b[m\u001b[1m\"int\"\u001b[m\u001b[m\n",
      "demo/ide_typed.py:13: \u001b[1m\u001b[31merror:\u001b[m Argument 2 to \u001b[m\u001b[1m\"add\"\u001b[m has incompatible type \u001b[m\u001b[1m\"str\"\u001b[m; expected \u001b[m\u001b[1m\"int\"\u001b[m\u001b[m\n",
      "\u001b[1m\u001b[31mFound 3 errors in 1 file (checked 4 source files)\u001b[m\n",
      "make: *** [lint] Error 1\n"
     ]
    }
   ],
   "source": [
    "!make lint"
   ]
  },
  {
   "cell_type": "markdown",
   "id": "f2e80a2c",
   "metadata": {},
   "source": [
    "## Аннотации не накладывают ограничения на реальное выполнение кода\n",
    "\n",
    "Вы все еще можете использовать код неправильно, но тепреь у вас есть инструменты, которые помогают за этим следить."
   ]
  },
  {
   "cell_type": "code",
   "execution_count": 22,
   "id": "bb5cc8a9",
   "metadata": {
    "scrolled": true
   },
   "outputs": [
    {
     "ename": "TypeError",
     "evalue": "unsupported operand type(s) for +: 'int' and 'str'",
     "output_type": "error",
     "traceback": [
      "\u001b[0;31m---------------------------------------------------------------------------\u001b[0m",
      "\u001b[0;31mTypeError\u001b[0m                                 Traceback (most recent call last)",
      "\u001b[0;32m<ipython-input-22-3e58790011a7>\u001b[0m in \u001b[0;36m<module>\u001b[0;34m\u001b[0m\n\u001b[0;32m----> 1\u001b[0;31m \u001b[0madd\u001b[0m\u001b[0;34m(\u001b[0m\u001b[0;36m5\u001b[0m\u001b[0;34m,\u001b[0m \u001b[0;34m'5'\u001b[0m\u001b[0;34m)\u001b[0m \u001b[0;31m# type error, но код запустить можно\u001b[0m\u001b[0;34m\u001b[0m\u001b[0;34m\u001b[0m\u001b[0m\n\u001b[0m",
      "\u001b[0;32m<ipython-input-2-0afc90a86621>\u001b[0m in \u001b[0;36madd\u001b[0;34m(number_1, number_2)\u001b[0m\n\u001b[1;32m      1\u001b[0m \u001b[0;32mdef\u001b[0m \u001b[0madd\u001b[0m\u001b[0;34m(\u001b[0m\u001b[0mnumber_1\u001b[0m\u001b[0;34m,\u001b[0m \u001b[0mnumber_2\u001b[0m\u001b[0;34m)\u001b[0m\u001b[0;34m:\u001b[0m\u001b[0;34m\u001b[0m\u001b[0;34m\u001b[0m\u001b[0m\n\u001b[0;32m----> 2\u001b[0;31m     \u001b[0;32mreturn\u001b[0m \u001b[0mnumber_1\u001b[0m \u001b[0;34m+\u001b[0m \u001b[0mnumber_2\u001b[0m\u001b[0;34m\u001b[0m\u001b[0;34m\u001b[0m\u001b[0m\n\u001b[0m",
      "\u001b[0;31mTypeError\u001b[0m: unsupported operand type(s) for +: 'int' and 'str'"
     ]
    }
   ],
   "source": [
    "add(5, '5') # type error, но код запустить можно"
   ]
  },
  {
   "cell_type": "markdown",
   "id": "017fb30f",
   "metadata": {},
   "source": [
    "## Простешие аннотации"
   ]
  },
  {
   "cell_type": "code",
   "execution_count": null,
   "id": "9497be70",
   "metadata": {},
   "outputs": [],
   "source": [
    "int, str, float, bool, #..."
   ]
  },
  {
   "cell_type": "markdown",
   "id": "24b9a453",
   "metadata": {},
   "source": [
    "## Что можно аннотировать типами?"
   ]
  },
  {
   "cell_type": "markdown",
   "id": "195f58c1",
   "metadata": {},
   "source": [
    "### Переменные"
   ]
  },
  {
   "cell_type": "code",
   "execution_count": null,
   "id": "2894d964",
   "metadata": {},
   "outputs": [],
   "source": [
    "var: int = 5\n",
    "    \n",
    "var = 10\n",
    "\n",
    "var = var + 10\n",
    "\n",
    "var = var + '10' # type error"
   ]
  },
  {
   "cell_type": "code",
   "execution_count": null,
   "id": "0fe2d017",
   "metadata": {},
   "outputs": [],
   "source": [
    "x = 5 # эквивалентно x: int = 5"
   ]
  },
  {
   "cell_type": "code",
   "execution_count": null,
   "id": "e6ba7ac9",
   "metadata": {},
   "outputs": [],
   "source": [
    "# можно разделить инициализацию значения и объявление типа\n",
    "\n",
    "x: int\n",
    "    \n",
    "# a few moments later\n",
    "\n",
    "x = 5"
   ]
  },
  {
   "cell_type": "code",
   "execution_count": null,
   "id": "54aa9ebd",
   "metadata": {},
   "outputs": [],
   "source": [
    "# до инициалиации значения переменной физически не существует"
   ]
  },
  {
   "cell_type": "code",
   "execution_count": 23,
   "id": "df0f6f38",
   "metadata": {},
   "outputs": [
    {
     "ename": "NameError",
     "evalue": "name 'y' is not defined",
     "output_type": "error",
     "traceback": [
      "\u001b[0;31m---------------------------------------------------------------------------\u001b[0m",
      "\u001b[0;31mNameError\u001b[0m                                 Traceback (most recent call last)",
      "\u001b[0;32m<ipython-input-23-882353e3dc67>\u001b[0m in \u001b[0;36m<module>\u001b[0;34m\u001b[0m\n\u001b[1;32m      1\u001b[0m \u001b[0my\u001b[0m\u001b[0;34m:\u001b[0m \u001b[0mint\u001b[0m\u001b[0;34m\u001b[0m\u001b[0;34m\u001b[0m\u001b[0m\n\u001b[0;32m----> 2\u001b[0;31m \u001b[0mprint\u001b[0m\u001b[0;34m(\u001b[0m\u001b[0my\u001b[0m\u001b[0;34m)\u001b[0m\u001b[0;34m\u001b[0m\u001b[0;34m\u001b[0m\u001b[0m\n\u001b[0m\u001b[1;32m      3\u001b[0m \u001b[0my\u001b[0m \u001b[0;34m=\u001b[0m \u001b[0;36m5\u001b[0m\u001b[0;34m\u001b[0m\u001b[0;34m\u001b[0m\u001b[0m\n",
      "\u001b[0;31mNameError\u001b[0m: name 'y' is not defined"
     ]
    }
   ],
   "source": [
    "y: int\n",
    "print(y)\n",
    "y = 5"
   ]
  },
  {
   "cell_type": "markdown",
   "id": "352ff780",
   "metadata": {},
   "source": [
    "### Параметры функции и возвращаемое значение"
   ]
  },
  {
   "cell_type": "code",
   "execution_count": null,
   "id": "bb1c1fc8",
   "metadata": {},
   "outputs": [],
   "source": [
    "def is_prime(number: int) -> bool:\n",
    "    # ...\n",
    "    pass"
   ]
  },
  {
   "cell_type": "markdown",
   "id": "786ccc54",
   "metadata": {},
   "source": [
    "## Gradual typing"
   ]
  },
  {
   "cell_type": "code",
   "execution_count": null,
   "id": "ead882f6",
   "metadata": {},
   "outputs": [],
   "source": [
    "def some_old_legacy_stuff(not_typed_param, not_typed_param2):\n",
    "    # ...\n",
    "    pass\n",
    "\n",
    "\n",
    "def some_old_legacy_stuff_2():\n",
    "    # ...\n",
    "    pass\n",
    "\n",
    "# ..."
   ]
  },
  {
   "cell_type": "code",
   "execution_count": null,
   "id": "8ccffba9",
   "metadata": {},
   "outputs": [],
   "source": [
    "def shiny_new_code(number: int) -> int:\n",
    "    return int(some_old_legacy_stuff(number, number))"
   ]
  },
  {
   "cell_type": "markdown",
   "id": "94017d52",
   "metadata": {},
   "source": [
    "## Сложные типы"
   ]
  },
  {
   "cell_type": "markdown",
   "id": "bb1eec97",
   "metadata": {},
   "source": [
    "### Optional[T] — T или None"
   ]
  },
  {
   "cell_type": "code",
   "execution_count": null,
   "id": "cdd93e96",
   "metadata": {},
   "outputs": [],
   "source": [
    "from typing import Optional\n",
    "\n",
    "x: Optional[int] = None # ok\n",
    "x = 5 # ok\n",
    "x = '5' # type error"
   ]
  },
  {
   "cell_type": "code",
   "execution_count": null,
   "id": "49c8adcf",
   "metadata": {},
   "outputs": [],
   "source": [
    "def foo(number: int = None): # неявно Optional[int]\n",
    "    pass\n",
    "\n",
    "foo() # ok\n",
    "foo(None) # ok\n",
    "foo(10) # ok\n",
    "foo('10') # type error"
   ]
  },
  {
   "cell_type": "markdown",
   "id": "30358921",
   "metadata": {},
   "source": [
    "### Union[T1, T2] — T1 или T2"
   ]
  },
  {
   "cell_type": "code",
   "execution_count": null,
   "id": "f3b8f3f8",
   "metadata": {},
   "outputs": [],
   "source": [
    "from typing import Union\n",
    "\n",
    "\n",
    "def double(some: Union[str, int]):\n",
    "    return some*2\n",
    "\n",
    "double('5') # ok\n",
    "double(5) # ok\n",
    "double(None) # type error"
   ]
  },
  {
   "cell_type": "markdown",
   "id": "ecd01fd5",
   "metadata": {},
   "source": [
    "## dict, list, tuple, ..."
   ]
  },
  {
   "cell_type": "code",
   "execution_count": null,
   "id": "f0149683",
   "metadata": {},
   "outputs": [],
   "source": [
    "numbers: list[int] = [1, 2, 3] # typing.List[int] для Python <3.9\n",
    "numbers = [\"1\", \"2\", \"3\"] # type error"
   ]
  },
  {
   "cell_type": "code",
   "execution_count": null,
   "id": "738c5c76",
   "metadata": {},
   "outputs": [],
   "source": [
    "counter: dict[str, int] = { # typing.Dict[str, int] для Python <3.9\n",
    "    \"John\": 42,\n",
    "}"
   ]
  },
  {
   "cell_type": "code",
   "execution_count": null,
   "id": "f7df1cd9",
   "metadata": {},
   "outputs": [],
   "source": [
    "point: tuple[int, int] = (0, 5) # typing.Tuple[int, int] для Python <3.9"
   ]
  },
  {
   "cell_type": "code",
   "execution_count": null,
   "id": "2784d0d0",
   "metadata": {},
   "outputs": [],
   "source": [
    "from typing import List, Dict, Tuple, Any\n",
    "\n",
    "# List[Any] == list[Any] == list\n",
    "# Dict[Any, Any] == dict[Any, Any] == dict\n",
    "# Tuple[Any, ...] = tuple[Any, ...] == tuple"
   ]
  },
  {
   "cell_type": "markdown",
   "id": "047cc60c",
   "metadata": {},
   "source": [
    "## Функции"
   ]
  },
  {
   "cell_type": "code",
   "execution_count": null,
   "id": "1ad3c33b",
   "metadata": {
    "scrolled": true
   },
   "outputs": [],
   "source": [
    "from typing import Callable\n",
    "\n",
    "def map_numbers(mapper: Callable[[int], int], numbers: list[int]) -> list[int]:\n",
    "    return list(map(mapper, numbers))\n",
    "\n",
    "def double(number: int) -> int:\n",
    "    return number*2\n",
    "\n",
    "map_numbers(double, [1, 2, 3])"
   ]
  },
  {
   "cell_type": "markdown",
   "id": "01da3126",
   "metadata": {},
   "source": [
    "[Шпаргалка и документация по типам](https://mypy.readthedocs.io/en/stable/cheat_sheet_py3.html)"
   ]
  },
  {
   "cell_type": "markdown",
   "id": "1b5f1085",
   "metadata": {},
   "source": [
    "## Аннотации не имеют смысла в рантайме?\n",
    "\n",
    "Не совсем."
   ]
  },
  {
   "cell_type": "code",
   "execution_count": 26,
   "id": "06e59e15",
   "metadata": {},
   "outputs": [],
   "source": [
    "def foo(number: int, flag: bool) -> int:\n",
    "    return number"
   ]
  },
  {
   "cell_type": "markdown",
   "id": "4499bd52",
   "metadata": {},
   "source": [
    "## Стабы для функций"
   ]
  },
  {
   "cell_type": "code",
   "execution_count": null,
   "id": "774bd9b5",
   "metadata": {},
   "outputs": [],
   "source": [
    "Не у всех библиотек хорошее покрытие типами, для этого придумали стабы (stubs) — отдельные пакеты с аннотациями типов.\n",
    "\n",
    "Подробнее в документации mypy.\n",
    "https://mypy.readthedocs.io/en/stable/running_mypy.html#missing-imports"
   ]
  },
  {
   "cell_type": "markdown",
   "id": "20f8834e",
   "metadata": {},
   "source": [
    "## А если код сложно типизировать?\n",
    "\n",
    "`# type: ignore` :)"
   ]
  }
 ],
 "metadata": {
  "kernelspec": {
   "display_name": "Python 3",
   "language": "python",
   "name": "python3"
  },
  "language_info": {
   "codemirror_mode": {
    "name": "ipython",
    "version": 3
   },
   "file_extension": ".py",
   "mimetype": "text/x-python",
   "name": "python",
   "nbconvert_exporter": "python",
   "pygments_lexer": "ipython3",
   "version": "3.9.4"
  }
 },
 "nbformat": 4,
 "nbformat_minor": 5
}
